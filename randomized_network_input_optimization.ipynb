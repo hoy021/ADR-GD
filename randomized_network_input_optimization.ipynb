{
 "cells": [
  {
   "cell_type": "code",
   "execution_count": 1,
   "id": "438fdc72-e174-41ec-9967-af3f22c85188",
   "metadata": {},
   "outputs": [],
   "source": [
    "%load_ext autoreload\n",
    "%autoreload 2\n",
    "\n",
    "import os, sys\n",
    "current_dir = os.getcwd()\n",
    "path_to_append = os.path.join(current_dir, \"configs\")\n",
    "if path_to_append not in sys.path:\n",
    "    sys.path.append(path_to_append)\n",
    "\n",
    "from helpers import *"
   ]
  },
  {
   "cell_type": "code",
   "execution_count": 2,
   "id": "338f9657-7e36-466d-8a6c-563dbf27baa4",
   "metadata": {},
   "outputs": [
    {
     "name": "stdout",
     "output_type": "stream",
     "text": [
      "Loading configurations...\n",
      "Network arch: [[10, 64], [64, 64], [64, 1]]\n"
     ]
    }
   ],
   "source": [
    "from importlib import import_module\n",
    "def load_configs_from_file(config_file):\n",
    "    configs = import_module(config_file.split(\".\")[0])\n",
    "    \n",
    "    return configs.shapes, configs.T, configs.c, configs.lr, configs.lr_sigma, \\\n",
    "        configs.lr_c, configs.perturb_freq, configs.noise_scale, configs.grad_threshold, configs.c_reduce_rate\n",
    "\n",
    "\"\"\"Can replace with `small_config` or `large_config`\"\"\"\n",
    "config_filename = \"small_config\" \n",
    "\n",
    "shapes, T, c, lr, lr_sigma, lr_c, perturb_freq, noise_scale, grad_threshold, c_reduce_rate = load_configs_from_file(config_filename)\n",
    "print (\"Loading configurations...\\nNetwork arch: {}\".format(shapes))"
   ]
  },
  {
   "cell_type": "code",
   "execution_count": 5,
   "id": "3d4f4424-b1b0-4ef3-9d7b-598605da1bbb",
   "metadata": {},
   "outputs": [
    {
     "name": "stdout",
     "output_type": "stream",
     "text": [
      "seed: 337550\n",
      "\n",
      "Vanilla GD   - Value of the found maxima: 19.9599\n",
      "The proposed - Value of the found maxima: 24.8431\n"
     ]
    }
   ],
   "source": [
    "np.random.seed(None)\n",
    "seed = np.random.randint(1e6)\n",
    "np.random.seed(seed)\n",
    "print (\"seed: {}\\n\".format(seed))\n",
    "\n",
    "Ws, bs = generate_random_ReLU_NN(shapes, seed = seed)\n",
    "\n",
    "val_gd, x_gd = input_optimization_gd(Ws, bs, \n",
    "                          T, lr, norm_grad = True)\n",
    "\n",
    "val_ncopt, x_ncopt = input_optimization_ncopt(Ws, bs,\n",
    "                         T, lr, lr_sigma, c,\n",
    "                         perturb_freq, noise_scale, grad_threshold,\n",
    "                         lr_c = lr_c, c_reduce_rate = c_reduce_rate,)\n",
    "\n",
    "print (\"Vanilla GD   - Value of the found maxima: {:.4f}\".format(val_gd[0]))\n",
    "print (\"The proposed - Value of the found maxima: {:.4f}\".format(val_ncopt))"
   ]
  },
  {
   "cell_type": "code",
   "execution_count": 8,
   "id": "fcc44ebe-ba18-48bf-94db-e92da3976e55",
   "metadata": {},
   "outputs": [
    {
     "name": "stdout",
     "output_type": "stream",
     "text": [
      "Loading configurations...\n",
      "Network arch: [[128, 500], [500, 500], [500, 500], [500, 1]]\n"
     ]
    }
   ],
   "source": [
    "\"\"\"Can replace with `small_config` or `large_config`\"\"\"\n",
    "config_filename = \"large_config\" \n",
    "\n",
    "shapes, T, c, lr, lr_sigma, lr_c, perturb_freq, noise_scale, grad_threshold, c_reduce_rate = load_configs_from_file(config_filename)\n",
    "print (\"Loading configurations...\\nNetwork arch: {}\".format(shapes))"
   ]
  },
  {
   "cell_type": "code",
   "execution_count": 9,
   "id": "c2f9ddcd-8916-4a9e-a49c-39298e5ea1ba",
   "metadata": {},
   "outputs": [
    {
     "name": "stdout",
     "output_type": "stream",
     "text": [
      "seed: 499777\n",
      "\n",
      "Vanilla GD   - Value of the found maxima: 31236.4668\n",
      "The proposed - Value of the found maxima: 34681.0589\n"
     ]
    }
   ],
   "source": [
    "np.random.seed(None)\n",
    "seed = np.random.randint(1e6)\n",
    "np.random.seed(seed)\n",
    "print (\"seed: {}\\n\".format(seed))\n",
    "\n",
    "Ws, bs = generate_random_ReLU_NN(shapes, seed = seed)\n",
    "\n",
    "val_gd, x_gd = input_optimization_gd(Ws, bs, \n",
    "                          T, lr, norm_grad = True)\n",
    "\n",
    "val_ncopt, x_ncopt = input_optimization_ncopt(Ws, bs,\n",
    "                         T, lr, lr_sigma, c,\n",
    "                         perturb_freq, noise_scale, grad_threshold,\n",
    "                         lr_c = lr_c, c_reduce_rate = c_reduce_rate,)\n",
    "\n",
    "print (\"Vanilla GD   - Value of the found maxima: {:.4f}\".format(val_gd[0]))\n",
    "print (\"The proposed - Value of the found maxima: {:.4f}\".format(val_ncopt))"
   ]
  }
 ],
 "metadata": {
  "kernelspec": {
   "display_name": "Python 3 (ipykernel)",
   "language": "python",
   "name": "python3"
  },
  "language_info": {
   "codemirror_mode": {
    "name": "ipython",
    "version": 3
   },
   "file_extension": ".py",
   "mimetype": "text/x-python",
   "name": "python",
   "nbconvert_exporter": "python",
   "pygments_lexer": "ipython3",
   "version": "3.10.14"
  }
 },
 "nbformat": 4,
 "nbformat_minor": 5
}
