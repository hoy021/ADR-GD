{
 "cells": [
  {
   "cell_type": "code",
   "execution_count": 1,
   "id": "3719ecc3-0eeb-42e0-874f-428bdeff0acc",
   "metadata": {},
   "outputs": [],
   "source": [
    "%load_ext autoreload\n",
    "%autoreload 2\n",
    "\n",
    "from models import *\n",
    "from helpers import *\n",
    "from torchattacks import PGD, FGSM\n",
    "\n",
    "import os, sys\n",
    "current_dir = os.getcwd()\n",
    "path_to_append = os.path.join(current_dir, \"configs\")\n",
    "if path_to_append not in sys.path:\n",
    "    sys.path.append(path_to_append)"
   ]
  },
  {
   "cell_type": "code",
   "execution_count": 2,
   "id": "f6f3d4b0-6c20-4bde-98b9-26bf080abba9",
   "metadata": {},
   "outputs": [],
   "source": [
    "from importlib import import_module\n",
    "def load_configs_from_file(config_file):\n",
    "    configs = import_module(config_file.split(\".\")[0])\n",
    "    \n",
    "    return configs.model_path, configs.hiddens_config, configs.batch_size, configs.epsilon, configs.T, configs.c, configs.lr, configs.lr_sigma, \\\n",
    "        configs.lr_c, configs.perturb_freq, configs.noise_scale, configs.grad_threshold, configs.c_reduce_rate\n",
    "\n",
    "\"\"\"Can replace with `adv_MNIST_clean_config` or `adv_MNIST_pgd_config`\"\"\"\n",
    "# config_filename = \"adv_MNIST_clean_config\" \n",
    "config_filename = \"adv_MNIST_pgd_config\" \n",
    "\n",
    "input_dim, input_size = 1, 28 # MNIST images\n",
    "model_path, hiddens_config, batch_size, epsilon, T, c, lr, lr_sigma, lr_c, perturb_freq, noise_scale, grad_threshold, c_reduce_rate  = load_configs_from_file(config_filename)"
   ]
  },
  {
   "cell_type": "code",
   "execution_count": 3,
   "id": "ce0db5b2-eb73-412e-ab38-4b6ad2398115",
   "metadata": {
    "tags": []
   },
   "outputs": [
    {
     "name": "stdout",
     "output_type": "stream",
     "text": [
      "Classifier loaded!\n",
      "Evaluating...\n",
      "\n",
      "Validation accuracy: 98.940%\n"
     ]
    }
   ],
   "source": [
    "model = CNN(input_size, input_dim,\n",
    "            hiddens_config)\n",
    "model.load_state_dict(torch.load(model_path))\n",
    "print (\"Classifier loaded!\\nEvaluating...\")\n",
    "\n",
    "_, test_loader, _ = load_MNIST_dataset(batch_size = batch_size)\n",
    "\n",
    "entropy_loss = nn.CrossEntropyLoss()\n",
    "fc_model = convert_CNN_to_FC(model, [28, 28, 1])\n",
    "\n",
    "\"\"\"Initializing PGD attacks\"\"\"\n",
    "pgd_atk = PGD(model, eps=epsilon, steps=1000)\n",
    "\n",
    "num_correct, num_all = 0, 0\n",
    "for images, labels in test_loader: \n",
    "    pred_logits = model(images.cuda())\n",
    "    num_all += labels.shape[0]\n",
    "    num_correct += (torch.argmax(pred_logits, axis = 1) == labels.cuda()).sum()\n",
    "print (\"\\nValidation accuracy: {:.3f}%\".format(num_correct / num_all * 100))"
   ]
  },
  {
   "cell_type": "code",
   "execution_count": 4,
   "id": "6e752ca3-89ee-43d3-8827-4ea990acf216",
   "metadata": {
    "tags": []
   },
   "outputs": [
    {
     "name": "stdout",
     "output_type": "stream",
     "text": [
      "Randomly draw an image...\n",
      "\tClean classification label: 6\n",
      "\tGround truth label: 6, objective: 0.000\n",
      "\n",
      "Epsilon: 0.25\n",
      "\n",
      "PGD attacking...\n",
      "\tClassification label: 6\n",
      "\tobjective: 0.174\n",
      "\n",
      "ADR-GD attacking...\n",
      "\tClassification label: 8\n",
      "\tobjective: 4.110\n",
      "\n"
     ]
    }
   ],
   "source": [
    "image, label = draw_image_randomly(test_loader)\n",
    "clean_logits = model(image.reshape([1, *image.shape]))\n",
    "clean_loss = entropy_loss(clean_logits,\n",
    "                          label.reshape([1, *label.shape]))\n",
    "\n",
    "print (\"Randomly draw an image...\")\n",
    "print (\"\\tClean classification label: {}\\n\\tGround truth label: {}, objective: {:.3f}\\n\".format(torch.argmax(clean_logits[0]), \n",
    "                                                                                                label, clean_loss))\n",
    "\n",
    "attacked_image = pgd_atk(image.reshape([1, *image.shape]), \n",
    "                         label.reshape([1, *label.shape]))\n",
    "pgd_loss = entropy_loss( model(attacked_image)[0], label)\n",
    "pgd_label = torch.argmax(model(attacked_image)[0])\n",
    "print (\"Epsilon: {}\\n\".format(epsilon))\n",
    "print (\"PGD attacking...\")\n",
    "print (\"\\tClassification label: {}\\n\\tobjective: {:.3f}\\n\".format(pgd_label, pgd_loss))\n",
    "\n",
    "attacked_image_ncvx, obj_cvx = adversarial_attack_nonconvexOpt(image.reshape([-1]).cuda(), \n",
    "                                                 label.cuda(), fc_model, \n",
    "                                                 epsilon, T, lr, lr_sigma,\n",
    "                                                 c = c, lr_c = lr_c,\n",
    "                                                 perturb_freq = perturb_freq,\n",
    "                                                 noise_scale = noise_scale,\n",
    "                                                 grad_threshold = grad_threshold,\n",
    "                                                 c_reduce_rate = c_reduce_rate, set_proper_sigma_freq = 16)\n",
    "print (\"ADR-GD attacking...\")\n",
    "adagd_label = torch.argmax(model(attacked_image_ncvx.reshape([1, 28, 28])))\n",
    "print (\"\\tClassification label: {}\\n\\tobjective: {:.3f}\\n\".format(adagd_label, obj_cvx))\n"
   ]
  },
  {
   "cell_type": "code",
   "execution_count": 7,
   "id": "44c25b23-e7eb-40fd-bc1b-2584c4aec2f7",
   "metadata": {
    "tags": []
   },
   "outputs": [
    {
     "name": "stdout",
     "output_type": "stream",
     "text": [
      "Randomly draw an image...\n",
      "\tClean classification label: 4\n",
      "\tGround truth label: 4, objective: 0.000\n",
      "\n",
      "Epsilon: 0.25\n",
      "\n",
      "PGD attacking...\n",
      "\tClassification label: 4\n",
      "\tobjective: 0.160\n",
      "\n",
      "ADR-GD attacking...\n",
      "\tClassification label: 8\n",
      "\tobjective: 7.116\n",
      "\n"
     ]
    }
   ],
   "source": [
    "image, label = draw_image_randomly(test_loader)\n",
    "clean_logits = model(image.reshape([1, *image.shape]))\n",
    "clean_loss = entropy_loss(clean_logits,\n",
    "                          label.reshape([1, *label.shape]))\n",
    "\n",
    "print (\"Randomly draw an image...\")\n",
    "print (\"\\tClean classification label: {}\\n\\tGround truth label: {}, objective: {:.3f}\\n\".format(torch.argmax(clean_logits[0]), \n",
    "                                                                                                label, clean_loss))\n",
    "\n",
    "attacked_image = pgd_atk(image.reshape([1, *image.shape]), \n",
    "                         label.reshape([1, *label.shape]))\n",
    "pgd_loss = entropy_loss( model(attacked_image)[0], label)\n",
    "pgd_label = torch.argmax(model(attacked_image)[0])\n",
    "print (\"Epsilon: {}\\n\".format(epsilon))\n",
    "print (\"PGD attacking...\")\n",
    "print (\"\\tClassification label: {}\\n\\tobjective: {:.3f}\\n\".format(pgd_label, pgd_loss))\n",
    "\n",
    "attacked_image_ncvx, obj_cvx = adversarial_attack_nonconvexOpt(image.reshape([-1]).cuda(), \n",
    "                                                 label.cuda(), fc_model, \n",
    "                                                 epsilon, T, lr, lr_sigma,\n",
    "                                                 c = c, lr_c = lr_c,\n",
    "                                                 perturb_freq = perturb_freq,\n",
    "                                                 noise_scale = noise_scale,\n",
    "                                                 grad_threshold = grad_threshold,\n",
    "                                                 c_reduce_rate = c_reduce_rate, set_proper_sigma_freq = 16)\n",
    "print (\"ADR-GD attacking...\")\n",
    "adagd_label = torch.argmax(model(attacked_image_ncvx.reshape([1, 28, 28])))\n",
    "print (\"\\tClassification label: {}\\n\\tobjective: {:.3f}\\n\".format(adagd_label, obj_cvx))\n"
   ]
  }
 ],
 "metadata": {
  "kernelspec": {
   "display_name": "Python 3 (ipykernel)",
   "language": "python",
   "name": "python3"
  },
  "language_info": {
   "codemirror_mode": {
    "name": "ipython",
    "version": 3
   },
   "file_extension": ".py",
   "mimetype": "text/x-python",
   "name": "python",
   "nbconvert_exporter": "python",
   "pygments_lexer": "ipython3",
   "version": "3.10.14"
  }
 },
 "nbformat": 4,
 "nbformat_minor": 5
}
